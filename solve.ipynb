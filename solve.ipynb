{
 "cells": [
  {
   "cell_type": "code",
   "execution_count": 1,
   "id": "32625589",
   "metadata": {},
   "outputs": [],
   "source": [
    "from sudoku import Sudoku"
   ]
  },
  {
   "cell_type": "markdown",
   "id": "433042ce",
   "metadata": {},
   "source": [
    "Initialise Sudoku with puzzle problem"
   ]
  },
  {
   "cell_type": "code",
   "execution_count": 2,
   "id": "6d1bdc7f",
   "metadata": {},
   "outputs": [
    {
     "name": "stdout",
     "output_type": "stream",
     "text": [
      "Sudoku Problem:\n",
      "-------------\n",
      "|53 | 7 |   |\n",
      "|6  |195|   |\n",
      "| 98|   | 6 |\n",
      "-------------\n",
      "|8  | 6 |  3|\n",
      "|4  |8 3|  1|\n",
      "|7  | 2 |  6|\n",
      "-------------\n",
      "| 6 |   |28 |\n",
      "|   |419|  5|\n",
      "|   | 8 | 79|\n",
      "-------------\n"
     ]
    }
   ],
   "source": [
    "filename = 'sudoku1.txt'\n",
    "sudoku = Sudoku(filename)\n",
    "\n",
    "print(\"Sudoku Problem:\")\n",
    "print(sudoku)"
   ]
  },
  {
   "cell_type": "markdown",
   "id": "b9c4e95f",
   "metadata": {},
   "source": [
    "Solved Sudoku"
   ]
  },
  {
   "cell_type": "code",
   "execution_count": 3,
   "id": "282975d5",
   "metadata": {},
   "outputs": [
    {
     "name": "stdout",
     "output_type": "stream",
     "text": [
      "\n",
      "Solved puzzle:\n",
      "-------------\n",
      "|534|678|912|\n",
      "|672|195|348|\n",
      "|198|342|567|\n",
      "-------------\n",
      "|859|761|423|\n",
      "|426|853|791|\n",
      "|713|924|856|\n",
      "-------------\n",
      "|961|537|284|\n",
      "|287|419|635|\n",
      "|345|286|179|\n",
      "-------------\n"
     ]
    }
   ],
   "source": [
    "if sudoku.solve():\n",
    "    print(\"\\nSolved puzzle:\")\n",
    "    print(sudoku)\n",
    "else:\n",
    "    print(\"No solution found.\")"
   ]
  }
 ],
 "metadata": {
  "kernelspec": {
   "display_name": "Python 3",
   "language": "python",
   "name": "python3"
  },
  "language_info": {
   "codemirror_mode": {
    "name": "ipython",
    "version": 3
   },
   "file_extension": ".py",
   "mimetype": "text/x-python",
   "name": "python",
   "nbconvert_exporter": "python",
   "pygments_lexer": "ipython3",
   "version": "3.12.0"
  }
 },
 "nbformat": 4,
 "nbformat_minor": 5
}
